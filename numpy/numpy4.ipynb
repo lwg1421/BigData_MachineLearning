{
 "cells": [
  {
   "attachments": {},
   "cell_type": "markdown",
   "metadata": {},
   "source": [
    "### Boolean 색인"
   ]
  },
  {
   "cell_type": "code",
   "execution_count": 1,
   "metadata": {},
   "outputs": [],
   "source": [
    "import numpy as np"
   ]
  },
  {
   "cell_type": "code",
   "execution_count": 3,
   "metadata": {},
   "outputs": [
    {
     "data": {
      "text/plain": [
       "array([53, 95, 91, 77, 69, 54, 94, 56])"
      ]
     },
     "execution_count": 3,
     "metadata": {},
     "output_type": "execute_result"
    }
   ],
   "source": [
    "# 50부터 99까지의 정수중 랜럼으로 8개를 뽑은 배열 생성\n",
    "name_score = np.array(np.random.randint(50,100,size=8))\n",
    "name_score"
   ]
  },
  {
   "cell_type": "code",
   "execution_count": 6,
   "metadata": {},
   "outputs": [
    {
     "name": "stdout",
     "output_type": "stream",
     "text": [
      "[False  True  True False False False  True False]\n",
      "[95 91 94]\n"
     ]
    }
   ],
   "source": [
    "#Boolean 값으로 80이상인 값들을 찾아보자\n",
    "print(name_score>80)\n",
    "\n",
    "\n",
    "# name_score에서 80이 넘는 값만을 추출\n",
    "print(name_score[name_score>80])"
   ]
  }
 ],
 "metadata": {
  "kernelspec": {
   "display_name": "Python 3",
   "language": "python",
   "name": "python3"
  },
  "language_info": {
   "codemirror_mode": {
    "name": "ipython",
    "version": 3
   },
   "file_extension": ".py",
   "mimetype": "text/x-python",
   "name": "python",
   "nbconvert_exporter": "python",
   "pygments_lexer": "ipython3",
   "version": "3.9.9"
  },
  "orig_nbformat": 4,
  "vscode": {
   "interpreter": {
    "hash": "20917bf6f99d1a5ddbc5e28f9055f09f315bcc64bccda888d1f584e60d3b17d4"
   }
  }
 },
 "nbformat": 4,
 "nbformat_minor": 2
}
