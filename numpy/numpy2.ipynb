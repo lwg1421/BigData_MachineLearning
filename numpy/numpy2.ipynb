{
 "cells": [
  {
   "cell_type": "code",
   "execution_count": 1,
   "metadata": {},
   "outputs": [],
   "source": [
    "import numpy as np"
   ]
  },
  {
   "cell_type": "code",
   "execution_count": 2,
   "metadata": {},
   "outputs": [
    {
     "data": {
      "text/plain": [
       "array([[0., 0., 0., 0.],\n",
       "       [0., 0., 0., 0.]])"
      ]
     },
     "execution_count": 2,
     "metadata": {},
     "output_type": "execute_result"
    }
   ],
   "source": [
    "# zeros\n",
    "# 매개변수로 행과 열의 개수를 줘야함\n",
    "arr_zeros = np.zeros((2,4))\n",
    "arr_zeros"
   ]
  },
  {
   "cell_type": "code",
   "execution_count": 3,
   "metadata": {},
   "outputs": [
    {
     "data": {
      "text/plain": [
       "array([[1., 1., 1.],\n",
       "       [1., 1., 1.],\n",
       "       [1., 1., 1.]])"
      ]
     },
     "execution_count": 3,
     "metadata": {},
     "output_type": "execute_result"
    }
   ],
   "source": [
    "# ones\n",
    "# 매개변수로 행과 열의 개수를 줘야함\n",
    "arr_one = np.ones((3,3))\n",
    "arr_one"
   ]
  },
  {
   "cell_type": "code",
   "execution_count": 5,
   "metadata": {},
   "outputs": [
    {
     "data": {
      "text/plain": [
       "array([['닭', '닭', '닭', '닭', '닭', '닭', '닭'],\n",
       "       ['닭', '닭', '닭', '닭', '닭', '닭', '닭']], dtype='<U1')"
      ]
     },
     "execution_count": 5,
     "metadata": {},
     "output_type": "execute_result"
    }
   ],
   "source": [
    "# full\n",
    "# 매개변수로 행열의 개수와 채울 데이터를 지정해줘야함\n",
    "arr_full = np.full((2,7),\"닭\")\n",
    "arr_full"
   ]
  },
  {
   "cell_type": "code",
   "execution_count": 9,
   "metadata": {},
   "outputs": [
    {
     "name": "stdout",
     "output_type": "stream",
     "text": [
      "[1 2 3 4 5 6 7 8 9]\n",
      "[1 3 5 7 9]\n"
     ]
    }
   ],
   "source": [
    "# arange\n",
    "arr_arange1 = np.arange(1,10)\n",
    "print(arr_arange1)\n",
    "arr_arange2 = np.arange(1,10,2)\n",
    "print(arr_arange2)"
   ]
  },
  {
   "cell_type": "code",
   "execution_count": 11,
   "metadata": {},
   "outputs": [
    {
     "name": "stdout",
     "output_type": "stream",
     "text": [
      "9\n"
     ]
    },
    {
     "data": {
      "text/plain": [
       "array([[4, 8, 6, 6],\n",
       "       [4, 3, 9, 1],\n",
       "       [1, 5, 9, 1]])"
      ]
     },
     "execution_count": 11,
     "metadata": {},
     "output_type": "execute_result"
    }
   ],
   "source": [
    "# random\n",
    "# 2부터 9까지의 정수 중 랜덤으로 하나의 정수를 생성\n",
    "arr_randint1 = np.random.randint(2,10)\n",
    "print(arr_randint1)\n",
    "\n",
    "# 1부터 9까지의 정수 중 랜덤으로 정수를 뽑는데 3행 4열의 데이터 수만큼 뽑음\n",
    "arr_randint2 = np.random.randint(1,10, size=(3,4))\n",
    "arr_randint2"
   ]
  },
  {
   "cell_type": "code",
   "execution_count": 14,
   "metadata": {},
   "outputs": [
    {
     "name": "stdout",
     "output_type": "stream",
     "text": [
      "[1 4 9]\n",
      "[2 4 6]\n",
      "[3 5 7]\n"
     ]
    },
    {
     "ename": "ValueError",
     "evalue": "operands could not be broadcast together with shapes (3,) (4,) ",
     "output_type": "error",
     "traceback": [
      "\u001b[1;31m---------------------------------------------------------------------------\u001b[0m",
      "\u001b[1;31mValueError\u001b[0m                                Traceback (most recent call last)",
      "Cell \u001b[1;32mIn[14], line 10\u001b[0m\n\u001b[0;32m      7\u001b[0m \u001b[39mprint\u001b[39m(arr3\u001b[39m+\u001b[39marr3)\n\u001b[0;32m      8\u001b[0m \u001b[39mprint\u001b[39m(arr3\u001b[39m+\u001b[39marr33)\n\u001b[1;32m---> 10\u001b[0m arr3\u001b[39m+\u001b[39;49marr4\n",
      "\u001b[1;31mValueError\u001b[0m: operands could not be broadcast together with shapes (3,) (4,) "
     ]
    }
   ],
   "source": [
    "# array 연산\n",
    "arr33 = np.array([2,3,4])\n",
    "arr3 = np.array([1,2,3])\n",
    "arr4 = np.array([1,2,3,4])\n",
    "\n",
    "print(arr3*arr3)\n",
    "print(arr3+arr3)\n",
    "print(arr3+arr33)\n",
    "\n",
    "# arr3+arr4 는 불가능\n",
    "# array의 연산은 array들의 길이가 같은 경우에만 가능하다!"
   ]
  },
  {
   "cell_type": "code",
   "execution_count": null,
   "metadata": {},
   "outputs": [],
   "source": []
  }
 ],
 "metadata": {
  "kernelspec": {
   "display_name": "Python 3",
   "language": "python",
   "name": "python3"
  },
  "language_info": {
   "codemirror_mode": {
    "name": "ipython",
    "version": 3
   },
   "file_extension": ".py",
   "mimetype": "text/x-python",
   "name": "python",
   "nbconvert_exporter": "python",
   "pygments_lexer": "ipython3",
   "version": "3.9.9"
  },
  "orig_nbformat": 4,
  "vscode": {
   "interpreter": {
    "hash": "20917bf6f99d1a5ddbc5e28f9055f09f315bcc64bccda888d1f584e60d3b17d4"
   }
  }
 },
 "nbformat": 4,
 "nbformat_minor": 2
}
