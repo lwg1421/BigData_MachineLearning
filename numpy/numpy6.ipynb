{
 "cells": [
  {
   "cell_type": "markdown",
   "id": "e314259d",
   "metadata": {},
   "source": [
    "### 평점 데이터셋 실습"
   ]
  },
  {
   "cell_type": "markdown",
   "id": "701e2001",
   "metadata": {},
   "source": [
    "#### 데이터 구조\n",
    "- user_id\n",
    "- item_id\n",
    "- rating\n",
    "- timastampe"
   ]
  },
  {
   "cell_type": "code",
   "execution_count": 22,
   "id": "fef5743d",
   "metadata": {},
   "outputs": [],
   "source": [
    "import numpy as np"
   ]
  },
  {
   "cell_type": "code",
   "execution_count": 23,
   "id": "eaa4dc17",
   "metadata": {},
   "outputs": [
    {
     "data": {
      "text/plain": [
       "array([[        1,      1193,         5, 978300760],\n",
       "       [        1,       661,         3, 978302109],\n",
       "       [        1,       914,         3, 978301968],\n",
       "       ...,\n",
       "       [        5,       357,         2, 978245829],\n",
       "       [        5,        36,         3, 978244808],\n",
       "       [        5,       714,         4, 978244493]], dtype=int64)"
      ]
     },
     "execution_count": 23,
     "metadata": {},
     "output_type": "execute_result"
    }
   ],
   "source": [
    "# 데이터 불러오기\n",
    "# delimiter : 파일의 내용을 구문 분석 하는데 사용할 구분 기호\n",
    "# dtype : 결과 배열의 데이터 유형\n",
    "data = np.loadtxt('C:/BigData_MachineLearning/dataset/ratings_small.dat', delimiter= \"::\", dtype=np.int64)\n",
    "data\n"
   ]
  },
  {
   "cell_type": "code",
   "execution_count": 24,
   "id": "fc8399e3",
   "metadata": {},
   "outputs": [
    {
     "name": "stdout",
     "output_type": "stream",
     "text": [
      "(452, 4)\n",
      "2\n",
      "1808\n"
     ]
    }
   ],
   "source": [
    "# shape : 데이터 행열\n",
    "print(data.shape)\n",
    "# ndim : 데이터 차원\n",
    "print(data.ndim)\n",
    "# size : 데이터 개수 \n",
    "print(data.size)"
   ]
  },
  {
   "cell_type": "code",
   "execution_count": 25,
   "id": "281a2699",
   "metadata": {},
   "outputs": [
    {
     "data": {
      "text/plain": [
       "3.564159292035398"
      ]
     },
     "execution_count": 25,
     "metadata": {},
     "output_type": "execute_result"
    }
   ],
   "source": [
    "# 전체 평점 평균 구하기\n",
    "data[:,2].mean()"
   ]
  },
  {
   "cell_type": "code",
   "execution_count": 26,
   "id": "d9156b3a",
   "metadata": {},
   "outputs": [
    {
     "data": {
      "text/plain": [
       "4.188679245283019"
      ]
     },
     "execution_count": 26,
     "metadata": {},
     "output_type": "execute_result"
    }
   ],
   "source": [
    "# id가 1인 사람의 평점 평균 구하기\n",
    "data[data[:,0]==1][:,2].mean()"
   ]
  },
  {
   "cell_type": "markdown",
   "id": "a3957098",
   "metadata": {},
   "source": [
    "### 각 사용자별 평점 평균 구하기"
   ]
  },
  {
   "cell_type": "code",
   "execution_count": 29,
   "id": "12d4163a",
   "metadata": {},
   "outputs": [
    {
     "data": {
      "text/plain": [
       "array([1, 2, 3, 4, 5], dtype=int64)"
      ]
     },
     "execution_count": 29,
     "metadata": {},
     "output_type": "execute_result"
    }
   ],
   "source": [
    "# 사용자 unique값 확인하기\n",
    "unique_user = np.unique(data[:,0])\n",
    "unique_user"
   ]
  },
  {
   "cell_type": "code",
   "execution_count": 32,
   "id": "516ca725",
   "metadata": {},
   "outputs": [
    {
     "name": "stdout",
     "output_type": "stream",
     "text": [
      "1번 사용자의 평점 평균입니다.\n",
      "4.188679245283019\n",
      "2번 사용자의 평점 평균입니다.\n",
      "3.7131782945736433\n",
      "3번 사용자의 평점 평균입니다.\n",
      "3.9019607843137254\n",
      "4번 사용자의 평점 평균입니다.\n",
      "4.190476190476191\n",
      "5번 사용자의 평점 평균입니다.\n",
      "3.1464646464646466\n"
     ]
    }
   ],
   "source": [
    "# for문으로 각 사용자별 평점 평균 구하기\n",
    "for user in unique_user:\n",
    "    print(\"{}번 사용자의 평점 평균입니다.\".format(user))\n",
    "    print(data[data[:,0]==user][:,2].mean())"
   ]
  },
  {
   "cell_type": "code",
   "execution_count": null,
   "id": "c5562373",
   "metadata": {},
   "outputs": [],
   "source": []
  }
 ],
 "metadata": {
  "kernelspec": {
   "display_name": "Python 3",
   "language": "python",
   "name": "python3"
  },
  "language_info": {
   "codemirror_mode": {
    "name": "ipython",
    "version": 3
   },
   "file_extension": ".py",
   "mimetype": "text/x-python",
   "name": "python",
   "nbconvert_exporter": "python",
   "pygments_lexer": "ipython3",
   "version": "3.9.9 (tags/v3.9.9:ccb0e6a, Nov 15 2021, 18:08:50) [MSC v.1929 64 bit (AMD64)]"
  },
  "vscode": {
   "interpreter": {
    "hash": "20917bf6f99d1a5ddbc5e28f9055f09f315bcc64bccda888d1f584e60d3b17d4"
   }
  }
 },
 "nbformat": 4,
 "nbformat_minor": 5
}
